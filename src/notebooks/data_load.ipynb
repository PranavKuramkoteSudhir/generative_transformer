{
 "cells": [
  {
   "cell_type": "code",
   "execution_count": 6,
   "metadata": {},
   "outputs": [],
   "source": [
    "import torch\n",
    "from src.data_prep.data_load import CustomDataLoad\n",
    "from src.utils import get_text"
   ]
  },
  {
   "cell_type": "code",
   "execution_count": 7,
   "metadata": {},
   "outputs": [
    {
     "name": "stdout",
     "output_type": "stream",
     "text": [
      "<|endoftext|>The Project Gutenberg eBook of Pride \n"
     ]
    }
   ],
   "source": [
    "text=get_text('/Users/pranavks/Desktop/Projects/transformer/artifacts')\n",
    "print(text[:50])"
   ]
  },
  {
   "cell_type": "code",
   "execution_count": 19,
   "metadata": {},
   "outputs": [
    {
     "name": "stdout",
     "output_type": "stream",
     "text": [
      "[50256, 464, 4935, 20336, 46566, 286, 21735, 290, 3771, 10456, 501, 198, 220, 220, 220, 220, 198, 1212, 47179, 318, 329, 262, 779, 286, 2687, 6609, 287, 262, 1578, 1829, 290, 198, 1712, 584, 3354, 286, 262, 995, 379, 645, 1575, 290, 351, 2048, 645, 8733, 198, 10919, 15485, 13]\n"
     ]
    }
   ],
   "source": [
    "context_size=4\n",
    "dl=CustomDataLoad(text,context_size,8,4,False,True,0).get_data_loader()"
   ]
  },
  {
   "cell_type": "code",
   "execution_count": 15,
   "metadata": {},
   "outputs": [
    {
     "name": "stdout",
     "output_type": "stream",
     "text": [
      "tensor([[50256,   464,  4935, 20336],\n",
      "        [46566,   286, 21735,   290],\n",
      "        [ 3771, 10456,   501,   198],\n",
      "        [  220,   220,   220,   220],\n",
      "        [  198,  1212, 47179,   318],\n",
      "        [  329,   262,   779,   286],\n",
      "        [ 2687,  6609,   287,   262],\n",
      "        [ 1578,  1829,   290,   198]])\n"
     ]
    }
   ],
   "source": [
    "cur=iter(dl)\n",
    "input,target=next(cur)\n",
    "print(input)"
   ]
  },
  {
   "cell_type": "code",
   "execution_count": 13,
   "metadata": {},
   "outputs": [],
   "source": [
    "tiktoken_vocab=50257\n",
    "dimensions=256\n",
    "\n",
    "embed=torch.nn.Embedding(tiktoken_vocab,dimensions)"
   ]
  },
  {
   "cell_type": "code",
   "execution_count": 18,
   "metadata": {},
   "outputs": [
    {
     "data": {
      "text/plain": [
       "torch.Size([8, 4, 256])"
      ]
     },
     "execution_count": 18,
     "metadata": {},
     "output_type": "execute_result"
    }
   ],
   "source": [
    "embeded_text=embed(input)\n",
    "embeded_text.shape"
   ]
  },
  {
   "cell_type": "code",
   "execution_count": 25,
   "metadata": {},
   "outputs": [
    {
     "data": {
      "text/plain": [
       "tensor([0, 1, 2, 3])"
      ]
     },
     "execution_count": 25,
     "metadata": {},
     "output_type": "execute_result"
    }
   ],
   "source": [
    "context_window=[i for i in range(context_size)]\n",
    "\n",
    "context_tensor=torch.tensor(context_window)\n",
    "context_tensor"
   ]
  },
  {
   "cell_type": "code",
   "execution_count": 26,
   "metadata": {},
   "outputs": [
    {
     "data": {
      "text/plain": [
       "torch.Size([4, 256])"
      ]
     },
     "execution_count": 26,
     "metadata": {},
     "output_type": "execute_result"
    }
   ],
   "source": [
    "e=torch.nn.Embedding(context_size,256)\n",
    "positional_embed=e(context_tensor)\n",
    "positional_embed.shape"
   ]
  },
  {
   "cell_type": "code",
   "execution_count": 27,
   "metadata": {},
   "outputs": [
    {
     "data": {
      "text/plain": [
       "torch.Size([8, 4, 256])"
      ]
     },
     "execution_count": 27,
     "metadata": {},
     "output_type": "execute_result"
    }
   ],
   "source": [
    "input_embed=embeded_text+positional_embed\n",
    "input_embed.shape"
   ]
  },
  {
   "cell_type": "code",
   "execution_count": null,
   "metadata": {},
   "outputs": [],
   "source": []
  }
 ],
 "metadata": {
  "kernelspec": {
   "display_name": "venv",
   "language": "python",
   "name": "python3"
  },
  "language_info": {
   "codemirror_mode": {
    "name": "ipython",
    "version": 3
   },
   "file_extension": ".py",
   "mimetype": "text/x-python",
   "name": "python",
   "nbconvert_exporter": "python",
   "pygments_lexer": "ipython3",
   "version": "3.12.7"
  }
 },
 "nbformat": 4,
 "nbformat_minor": 2
}
